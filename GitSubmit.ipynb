{
  "nbformat": 4,
  "nbformat_minor": 0,
  "metadata": {
    "colab": {
      "provenance": []
    },
    "kernelspec": {
      "name": "python3",
      "display_name": "Python 3"
    },
    "language_info": {
      "name": "python"
    }
  },
  "cells": [
    {
      "cell_type": "markdown",
      "source": [
        "**Create a program that asks the user to enter their name and their age. Print out a message that tells how many years they have to be 100 years old.**"
      ],
      "metadata": {
        "id": "K1IlFNDQdc_M"
      }
    },
    {
      "cell_type": "code",
      "execution_count": null,
      "metadata": {
        "colab": {
          "base_uri": "https://localhost:8080/"
        },
        "id": "hoz6U_wMbmrW",
        "outputId": "9cb8636c-577c-4f84-c59b-4242c6d463ff"
      },
      "outputs": [
        {
          "output_type": "stream",
          "name": "stdout",
          "text": [
            "Enter your name: Yash\n",
            "Enter your age: 21\n",
            "Yash will turn 100 in 2101\n"
          ]
        }
      ],
      "source": [
        "import datetime\n",
        "Name = input(\"Enter your name: \")\n",
        "Age = int(input(\"Enter your age: \"))\n",
        "print(Name+\" will turn 100 in \" +str(datetime.datetime. today().year - Age + 100))"
      ]
    },
    {
      "cell_type": "code",
      "source": [
        "from datetime import datetime\n",
        "name = input('What is your name? \\n')\n",
        "age = int(input('How old are you? \\n'))\n",
        "hundred = int((100-age) + datetime.now().year)\n",
        "print ('Hello %s. You are %s years old. You will turn 100 years old in %s.' % (name, age, hundred))\n",
        "\n",
        "#repeat = int(input('Select a random number: \\n'))\n",
        "#stmt = ('Hello %s. You are %s years old. You will turn 100 years old in %s. \\n' % (name, age, hundred))\n",
        "#print (stmt*repeat)"
      ],
      "metadata": {
        "colab": {
          "base_uri": "https://localhost:8080/"
        },
        "id": "_oDNey2Zfhm8",
        "outputId": "95b5200e-1032-439e-ca9c-6c27b5334aad"
      },
      "execution_count": null,
      "outputs": [
        {
          "output_type": "stream",
          "name": "stdout",
          "text": [
            "What is your name? \n",
            "yps\n",
            "How old are you? \n",
            "22\n",
            "Hello yps. You are 22 years old. You will turn 100 years old in 2100.\n"
          ]
        }
      ]
    }
  ]
}